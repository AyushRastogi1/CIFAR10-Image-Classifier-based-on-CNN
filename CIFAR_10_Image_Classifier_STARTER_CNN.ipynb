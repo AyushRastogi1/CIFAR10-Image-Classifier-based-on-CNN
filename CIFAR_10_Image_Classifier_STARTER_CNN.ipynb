{
  "cells": [
    {
      "cell_type": "markdown",
      "metadata": {
        "id": "cPXOogW07R_v"
      },
      "source": [
        "# Introduction\n",
        "\n",
        "In this project, you will build a neural network of your own design to evaluate the CIFAR-10 dataset.\n",
        "\n",
        "To meet the requirements for this project, you will need to achieve an accuracy greater than 45%.\n",
        "If you want to beat Detectocorp's algorithm, you'll need to achieve an accuracy greater than 70%.\n",
        "(Beating Detectocorp's algorithm is not a requirement for passing this project, but you're encouraged to try!)\n",
        "\n",
        "Some of the benchmark results on CIFAR-10 include:\n",
        "\n",
        "78.9% Accuracy | [Deep Belief Networks; Krizhevsky, 2010](https://www.cs.toronto.edu/~kriz/conv-cifar10-aug2010.pdf)\n",
        "\n",
        "90.6% Accuracy | [Maxout Networks; Goodfellow et al., 2013](https://arxiv.org/pdf/1302.4389.pdf)\n",
        "\n",
        "96.0% Accuracy | [Wide Residual Networks; Zagoruyko et al., 2016](https://arxiv.org/pdf/1605.07146.pdf)\n",
        "\n",
        "99.0% Accuracy | [GPipe; Huang et al., 2018](https://arxiv.org/pdf/1811.06965.pdf)\n",
        "\n",
        "98.5% Accuracy | [Rethinking Recurrent Neural Networks and other Improvements for ImageClassification; Nguyen et al., 2020](https://arxiv.org/pdf/2007.15161.pdf)\n",
        "\n",
        "Research with this dataset is ongoing. Notably, many of these networks are quite large and quite expensive to train.\n",
        "\n",
        "## Imports"
      ]
    },
    {
      "cell_type": "code",
      "execution_count": 1,
      "metadata": {
        "id": "8cchM5u87R_x"
      },
      "outputs": [],
      "source": [
        "## This cell contains the essential imports you will need – DO NOT CHANGE THE CONTENTS! ##\n",
        "import torch\n",
        "import torch.nn as nn\n",
        "import torch.nn.functional as F\n",
        "import torch.optim as optim\n",
        "import torchvision\n",
        "import torchvision.transforms as transforms\n",
        "import matplotlib.pyplot as plt\n",
        "import numpy as np"
      ]
    },
    {
      "cell_type": "markdown",
      "metadata": {
        "id": "myi5qQK67R_y"
      },
      "source": [
        "## Load the Dataset\n",
        "\n",
        "Specify your transforms as a list first.\n",
        "The transforms module is already loaded as `transforms`.\n",
        "\n",
        "CIFAR-10 is fortunately included in the torchvision module.\n",
        "Then, you can create your dataset using the `CIFAR10` object from `torchvision.datasets` ([the documentation is available here](https://pytorch.org/docs/stable/torchvision/datasets.html#cifar)).\n",
        "Make sure to specify `download=True`!\n",
        "\n",
        "Once your dataset is created, you'll also need to define a `DataLoader` from the `torch.utils.data` module for both the train and the test set."
      ]
    },
    {
      "cell_type": "code",
      "execution_count": 2,
      "metadata": {
        "colab": {
          "base_uri": "https://localhost:8080/"
        },
        "id": "bEJVMWqD7R_y",
        "outputId": "e86827dd-e6e3-49bc-a3d4-fe30523d16e6"
      },
      "outputs": [
        {
          "output_type": "stream",
          "name": "stdout",
          "text": [
            "Downloading https://www.cs.toronto.edu/~kriz/cifar-10-python.tar.gz to /root/.pytorch/CIFAR10_data/cifar-10-python.tar.gz\n"
          ]
        },
        {
          "output_type": "stream",
          "name": "stderr",
          "text": [
            "100%|██████████| 170498071/170498071 [00:03<00:00, 42691527.60it/s]\n"
          ]
        },
        {
          "output_type": "stream",
          "name": "stdout",
          "text": [
            "Extracting /root/.pytorch/CIFAR10_data/cifar-10-python.tar.gz to /root/.pytorch/CIFAR10_data/\n",
            "Files already downloaded and verified\n"
          ]
        }
      ],
      "source": [
        "# Define transforms\n",
        "## YOUR CODE HERE ##\n",
        "from torchvision import datasets, models\n",
        "\n",
        "#CIFAR10 mean: [0.49139968, 0.48215827, 0.44653124] = [0.49, 0.48, 0.45]\n",
        "#CIFAR10 std: [0.24703233, 0.24348505, 0.26158768] = [0.25, 0.24, 0.26]\n",
        "train_transform = transforms.Compose([transforms.RandomRotation(30),\n",
        "                                      transforms.RandomHorizontalFlip(),\n",
        "                                      transforms.ToTensor(),\n",
        "                                      transforms.Normalize([0.49, 0.48, 0.45],[0.25, 0.24, 0.26])])\n",
        "test_transform = transforms.Compose([transforms.ToTensor(),\n",
        "                                     transforms.Normalize([0.49, 0.48, 0.45],[0.25, 0.24, 0.26])])\n",
        "\n",
        "# Create training set and define training dataloader\n",
        "## YOUR CODE HERE ##\n",
        "trainset = datasets.CIFAR10('~/.pytorch/CIFAR10_data/', download=True, train=True, transform=train_transform)\n",
        "trainloader = torch.utils.data.DataLoader(trainset, batch_size=32, shuffle=True)\n",
        "\n",
        "# Create test set and define test dataloader\n",
        "## YOUR CODE HERE ##\n",
        "testset = datasets.CIFAR10('~/.pytorch/CIFAR10_data/', download=True, train=False, transform=test_transform)\n",
        "testloader = torch.utils.data.DataLoader(testset, batch_size=32)\n",
        "\n",
        "# The 10 classes in the dataset\n",
        "classes = ('plane', 'car', 'bird', 'cat', 'deer', 'dog', 'frog', 'horse', 'ship', 'truck')"
      ]
    },
    {
      "cell_type": "markdown",
      "metadata": {
        "id": "ZwZXbocF7R_z"
      },
      "source": [
        "## Explore the Dataset\n",
        "Using matplotlib, numpy, and torch, explore the dimensions of your data.\n",
        "\n",
        "You can view images using the `show5` function defined below – it takes a data loader as an argument.\n",
        "Remember that normalized images will look really weird to you! You may want to try changing your transforms to view images.\n",
        "Typically using no transforms other than `toTensor()` works well for viewing – but not as well for training your network.\n",
        "If `show5` doesn't work, go back and check your code for creating your data loaders and your training/test sets."
      ]
    },
    {
      "cell_type": "code",
      "execution_count": 3,
      "metadata": {
        "id": "byr4VFob7R_z"
      },
      "outputs": [],
      "source": [
        "def show5(img_loader):\n",
        "    dataiter = iter(img_loader)\n",
        "\n",
        "    batch = next(dataiter)\n",
        "    labels = batch[1][0:5]\n",
        "    images = batch[0][0:5]\n",
        "    for i in range(5):\n",
        "        print(classes[labels[i]])\n",
        "\n",
        "        image = images[i].numpy()\n",
        "        image = np.clip(image, 0, 1) # Added to prevent error: \"Floating point image RGB values must be in the 0..1 range.\"\n",
        "        plt.imshow(np.rot90(image.T, k=3))\n",
        "        plt.show()"
      ]
    },
    {
      "cell_type": "code",
      "execution_count": 4,
      "metadata": {
        "colab": {
          "base_uri": "https://localhost:8080/",
          "height": 1000
        },
        "id": "t4IFz9yy7R_z",
        "outputId": "9c0bfbbb-12e0-4b63-fe53-9069243d840a"
      },
      "outputs": [
        {
          "output_type": "stream",
          "name": "stdout",
          "text": [
            "plane\n"
          ]
        },
        {
          "output_type": "display_data",
          "data": {
            "text/plain": [
              "<Figure size 640x480 with 1 Axes>"
            ],
            "image/png": "[encoded data removed]"
          },
          "metadata": {}
        },
        {
          "output_type": "stream",
          "name": "stdout",
          "text": [
            "ship\n"
          ]
        },
        {
          "output_type": "display_data",
          "data": {
            "text/plain": [
              "<Figure size 640x480 with 1 Axes>"
            ],
            "image/png": "[encoded data removed]"
          },
          "metadata": {}
        },
        {
          "output_type": "stream",
          "name": "stdout",
          "text": [
            "plane\n"
          ]
        },
        {
          "output_type": "display_data",
          "data": {
            "text/plain": [
              "<Figure size 640x480 with 1 Axes>"
            ],
            "image/png": "[encoded data removed]"
          },
          "metadata": {}
        },
        {
          "output_type": "stream",
          "name": "stdout",
          "text": [
            "bird\n"
          ]
        },
        {
          "output_type": "display_data",
          "data": {
            "text/plain": [
              "<Figure size 640x480 with 1 Axes>"
            ],
            "image/png": "[encoded data removed]"
          },
          "metadata": {}
        },
        {
          "output_type": "stream",
          "name": "stdout",
          "text": [
            "truck\n"
          ]
        },
        {
          "output_type": "display_data",
          "data": {
            "text/plain": [
              "<Figure size 640x480 with 1 Axes>"
            ],
            "image/png": "[encoded data removed]"
          },
          "metadata": {}
        }
      ],
      "source": [
        "# Explore data\n",
        "## YOUR CODE HERE ##\n",
        "show5(trainloader)\n",
        "images, labels = next(iter(trainloader))"
      ]
    },
    {
      "cell_type": "code",
      "execution_count": 5,
      "metadata": {
        "colab": {
          "base_uri": "https://localhost:8080/",
          "height": 1000
        },
        "id": "6ixp6zz67R_z",
        "outputId": "eed6518e-8740-4a6f-8942-1e86f2ecdf05"
      },
      "outputs": [
        {
          "output_type": "stream",
          "name": "stdout",
          "text": [
            "cat\n"
          ]
        },
        {
          "output_type": "display_data",
          "data": {
            "text/plain": [
              "<Figure size 640x480 with 1 Axes>"
            ],
            "image/png": "[encoded data removed]"
          },
          "metadata": {}
        },
        {
          "output_type": "stream",
          "name": "stdout",
          "text": [
            "ship\n"
          ]
        },
        {
          "output_type": "display_data",
          "data": {
            "text/plain": [
              "<Figure size 640x480 with 1 Axes>"
            ],
            "image/png": "[encoded data removed]"
          },
          "metadata": {}
        },
        {
          "output_type": "stream",
          "name": "stdout",
          "text": [
            "ship\n"
          ]
        },
        {
          "output_type": "display_data",
          "data": {
            "text/plain": [
              "<Figure size 640x480 with 1 Axes>"
            ],
            "image/png": "[encoded data removed]"
          },
          "metadata": {}
        },
        {
          "output_type": "stream",
          "name": "stdout",
          "text": [
            "plane\n"
          ]
        },
        {
          "output_type": "display_data",
          "data": {
            "text/plain": [
              "<Figure size 640x480 with 1 Axes>"
            ],
            "image/png": "[encoded data removed]"
          },
          "metadata": {}
        },
        {
          "output_type": "stream",
          "name": "stdout",
          "text": [
            "frog\n"
          ]
        },
        {
          "output_type": "display_data",
          "data": {
            "text/plain": [
              "<Figure size 640x480 with 1 Axes>"
            ],
            "image/png": "[encoded data removed]"
          },
          "metadata": {}
        }
      ],
      "source": [
        "show5(testloader)\n",
        "images, labels = next(iter(testloader))"
      ]
    },
    {
      "cell_type": "markdown",
      "metadata": {
        "id": "T72N9ri97R_z"
      },
      "source": [
        "## Build your Neural Network\n",
        "Using the layers in `torch.nn` (which has been imported as `nn`) and the `torch.nn.functional` module (imported as `F`), construct a neural network based on the parameters of the dataset.\n",
        "Feel free to construct a model of any architecture – feedforward, convolutional, or even something more advanced!"
      ]
    },
    {
      "cell_type": "code",
      "execution_count": 6,
      "metadata": {
        "id": "Inuyz63g7R_0"
      },
      "outputs": [],
      "source": [
        "## YOUR CODE HERE ##\n",
        "class Classifier(nn.Module):\n",
        "    def __init__(self):\n",
        "        super().__init__()\n",
        "\n",
        "        self.conv1 = nn.Conv2d(in_channels=3, out_channels=16, kernel_size=3, stride=1, padding=1)\n",
        "        self.pool = nn.MaxPool2d(2, 2)\n",
        "        self.conv2 = nn.Conv2d(in_channels=16, out_channels=32, kernel_size=3, stride=1, padding=1)\n",
        "        self.fc1 = nn.Linear(32*8*8, 64)\n",
        "        self.fc2 = nn.Linear(64, 32)\n",
        "        self.fc3 = nn.Linear(32, 10)\n",
        "\n",
        "        self.dropout = nn.Dropout(p=0.1)\n",
        "\n",
        "    def forward(self, x):\n",
        "        x = self.pool(self.dropout(F.leaky_relu(self.conv1(x))))\n",
        "        x = self.pool(self.dropout(F.leaky_relu(self.conv2(x))))\n",
        "        x = x.view(x.shape[0], -1) # Flatten input tensor\n",
        "        x = self.dropout(F.leaky_relu(self.fc1(x)))\n",
        "        x = self.dropout(F.leaky_relu(self.fc2(x)))\n",
        "        x = F.log_softmax(self.fc3(x), dim=1) # Output: No dropout here\n",
        "        return x"
      ]
    },
    {
      "cell_type": "markdown",
      "metadata": {
        "id": "_fRfzlXL7R_0"
      },
      "source": [
        "Specify a loss function and an optimizer, and instantiate the model.\n",
        "\n",
        "If you use a less common loss function, please note why you chose that loss function in a comment."
      ]
    },
    {
      "cell_type": "code",
      "execution_count": 7,
      "metadata": {
        "colab": {
          "base_uri": "https://localhost:8080/"
        },
        "id": "HVuDK6Tf7R_0",
        "outputId": "902f31b1-8928-49e1-a0d6-be2b95634287"
      },
      "outputs": [
        {
          "output_type": "execute_result",
          "data": {
            "text/plain": [
              "Classifier(\n",
              "  (conv1): Conv2d(3, 16, kernel_size=(3, 3), stride=(1, 1), padding=(1, 1))\n",
              "  (pool): MaxPool2d(kernel_size=2, stride=2, padding=0, dilation=1, ceil_mode=False)\n",
              "  (conv2): Conv2d(16, 32, kernel_size=(3, 3), stride=(1, 1), padding=(1, 1))\n",
              "  (fc1): Linear(in_features=2048, out_features=64, bias=True)\n",
              "  (fc2): Linear(in_features=64, out_features=32, bias=True)\n",
              "  (fc3): Linear(in_features=32, out_features=10, bias=True)\n",
              "  (dropout): Dropout(p=0.1, inplace=False)\n",
              ")"
            ]
          },
          "metadata": {},
          "execution_count": 7
        }
      ],
      "source": [
        "## YOUR CODE HERE ##\n",
        "device = torch.device(\"cuda\" if torch.cuda.is_available() else \"cpu\") # Use GPU if it's available\n",
        "model = Classifier()\n",
        "criterion = nn.NLLLoss()\n",
        "optimizer = optim.Adam(model.parameters(), lr=0.001)\n",
        "model.to(device)"
      ]
    },
    {
      "cell_type": "markdown",
      "metadata": {
        "id": "H8BYyHmJ7R_0"
      },
      "source": [
        "## Running your Neural Network\n",
        "Use whatever method you like to train your neural network, and ensure you record the average loss at each epoch.\n",
        "Don't forget to use `torch.device()` and the `.to()` method for both your model and your data if you are using GPU!\n",
        "\n",
        "If you want to print your loss during each epoch, you can use the `enumerate` function and print the loss after a set number of batches. 250 batches works well for most people!"
      ]
    },
    {
      "cell_type": "code",
      "execution_count": 8,
      "metadata": {
        "colab": {
          "base_uri": "https://localhost:8080/"
        },
        "id": "YkkwS-0x7R_0",
        "outputId": "768b465e-491f-4b10-98d0-51b82b5a946e"
      },
      "outputs": [
        {
          "output_type": "stream",
          "name": "stdout",
          "text": [
            "Epoch: 1/300...training finished\n",
            "Epoch: 2/300...training finished\n",
            "Epoch: 3/300...training finished\n",
            "Epoch: 4/300...training finished\n",
            "Epoch: 5/300...training finished\n",
            "Epoch: 6/300...training finished\n",
            "Epoch: 7/300...training finished\n",
            "Epoch: 8/300...training finished\n",
            "Epoch: 9/300...training finished\n",
            "Epoch: 10/300...training finished\n",
            "Epoch: 11/300...training finished\n",
            "Epoch: 12/300...training finished\n",
            "Epoch: 13/300...training finished\n",
            "Epoch: 14/300...training finished\n",
            "Epoch: 15/300...training finished\n",
            "Epoch: 16/300...training finished\n",
            "Epoch: 17/300...training finished\n",
            "Epoch: 18/300...training finished\n",
            "Epoch: 19/300...training finished\n",
            "Epoch: 20/300...training finished\n",
            "Epoch: 21/300...training finished\n",
            "Epoch: 22/300...training finished\n",
            "Epoch: 23/300...training finished\n",
            "Epoch: 24/300...training finished\n",
            "Epoch: 25/300...training finished\n",
            "Epoch: 26/300...training finished\n",
            "Epoch: 27/300...training finished\n",
            "Epoch: 28/300...training finished\n",
            "Epoch: 29/300...training finished\n",
            "Epoch: 30/300...training finished\n",
            "Epoch: 31/300...training finished\n",
            "Epoch: 32/300...training finished\n",
            "Epoch: 33/300...training finished\n",
            "Epoch: 34/300...training finished\n",
            "Epoch: 35/300...training finished\n",
            "Epoch: 36/300...training finished\n",
            "Epoch: 37/300...training finished\n",
            "Epoch: 38/300...training finished\n",
            "Epoch: 39/300...training finished\n",
            "Epoch: 40/300...training finished\n",
            "Epoch: 41/300...training finished\n",
            "Epoch: 42/300...training finished\n",
            "Epoch: 43/300...training finished\n",
            "Epoch: 44/300...training finished\n",
            "Epoch: 45/300...training finished\n",
            "Epoch: 46/300...training finished\n",
            "Epoch: 47/300...training finished\n",
            "Epoch: 48/300...training finished\n",
            "Epoch: 49/300...training finished\n",
            "Epoch: 50/300...training finished\n",
            "Epoch: 51/300...training finished\n",
            "Epoch: 52/300...training finished\n",
            "Epoch: 53/300...training finished\n",
            "Epoch: 54/300...training finished\n",
            "Epoch: 55/300...training finished\n",
            "Epoch: 56/300...training finished\n",
            "Epoch: 57/300...training finished\n",
            "Epoch: 58/300...training finished\n",
            "Epoch: 59/300...training finished\n",
            "Epoch: 60/300...training finished\n",
            "Epoch: 61/300...training finished\n",
            "Epoch: 62/300...training finished\n",
            "Epoch: 63/300...training finished\n",
            "Epoch: 64/300...training finished\n",
            "Epoch: 65/300...training finished\n",
            "Epoch: 66/300...training finished\n",
            "Epoch: 67/300...training finished\n",
            "Epoch: 68/300...training finished\n",
            "Epoch: 69/300...training finished\n",
            "Epoch: 70/300...training finished\n",
            "Epoch: 71/300...training finished\n",
            "Epoch: 72/300...training finished\n",
            "Epoch: 73/300...training finished\n",
            "Epoch: 74/300...training finished\n",
            "Epoch: 75/300...training finished\n",
            "Epoch: 76/300...training finished\n",
            "Epoch: 77/300...training finished\n",
            "Epoch: 78/300...training finished\n",
            "Epoch: 79/300...training finished\n",
            "Epoch: 80/300...training finished\n",
            "Epoch: 81/300...training finished\n",
            "Epoch: 82/300...training finished\n",
            "Epoch: 83/300...training finished\n",
            "Epoch: 84/300...training finished\n",
            "Epoch: 85/300...training finished\n",
            "Epoch: 86/300...training finished\n",
            "Epoch: 87/300...training finished\n",
            "Epoch: 88/300...training finished\n",
            "Epoch: 89/300...training finished\n",
            "Epoch: 90/300...training finished\n",
            "Epoch: 91/300...training finished\n",
            "Epoch: 92/300...training finished\n",
            "Epoch: 93/300...training finished\n",
            "Epoch: 94/300...training finished\n",
            "Epoch: 95/300...training finished\n",
            "Epoch: 96/300...training finished\n",
            "Epoch: 97/300...training finished\n",
            "Epoch: 98/300...training finished\n",
            "Epoch: 99/300...training finished\n",
            "Epoch: 100/300...training finished\n",
            "Epoch: 101/300...training finished\n",
            "Epoch: 102/300...training finished\n",
            "Epoch: 103/300...training finished\n",
            "Epoch: 104/300...training finished\n",
            "Epoch: 105/300...training finished\n",
            "Epoch: 106/300...training finished\n",
            "Epoch: 107/300...training finished\n",
            "Epoch: 108/300...training finished\n",
            "Epoch: 109/300...training finished\n",
            "Epoch: 110/300...training finished\n",
            "Epoch: 111/300...training finished\n",
            "Epoch: 112/300...training finished\n",
            "Epoch: 113/300...training finished\n",
            "Epoch: 114/300...training finished\n",
            "Epoch: 115/300...training finished\n",
            "Epoch: 116/300...training finished\n",
            "Epoch: 117/300...training finished\n",
            "Epoch: 118/300...training finished\n",
            "Epoch: 119/300...training finished\n",
            "Epoch: 120/300...training finished\n",
            "Epoch: 121/300...training finished\n",
            "Epoch: 122/300...training finished\n",
            "Epoch: 123/300...training finished\n",
            "Epoch: 124/300...training finished\n",
            "Epoch: 125/300...training finished\n",
            "Epoch: 126/300...training finished\n",
            "Epoch: 127/300...training finished\n",
            "Epoch: 128/300...training finished\n",
            "Epoch: 129/300...training finished\n",
            "Epoch: 130/300...training finished\n",
            "Epoch: 131/300...training finished\n",
            "Epoch: 132/300...training finished\n",
            "Epoch: 133/300...training finished\n",
            "Epoch: 134/300...training finished\n",
            "Epoch: 135/300...training finished\n",
            "Epoch: 136/300...training finished\n",
            "Epoch: 137/300...training finished\n",
            "Epoch: 138/300...training finished\n",
            "Epoch: 139/300...training finished\n",
            "Epoch: 140/300...training finished\n",
            "Epoch: 141/300...training finished\n",
            "Epoch: 142/300...training finished\n",
            "Epoch: 143/300...training finished\n",
            "Epoch: 144/300...training finished\n",
            "Epoch: 145/300...training finished\n",
            "Epoch: 146/300...training finished\n",
            "Epoch: 147/300...training finished\n",
            "Epoch: 148/300...training finished\n",
            "Epoch: 149/300...training finished\n",
            "Epoch: 150/300...training finished\n",
            "Epoch: 151/300...training finished\n",
            "Epoch: 152/300...training finished\n",
            "Epoch: 153/300...training finished\n",
            "Epoch: 154/300...training finished\n",
            "Epoch: 155/300...training finished\n",
            "Epoch: 156/300...training finished\n",
            "Epoch: 157/300...training finished\n",
            "Epoch: 158/300...training finished\n",
            "Epoch: 159/300...training finished\n",
            "Epoch: 160/300...training finished\n",
            "Epoch: 161/300...training finished\n",
            "Epoch: 162/300...training finished\n",
            "Epoch: 163/300...training finished\n",
            "Epoch: 164/300...training finished\n",
            "Epoch: 165/300...training finished\n",
            "Epoch: 166/300...training finished\n",
            "Epoch: 167/300...training finished\n",
            "Epoch: 168/300...training finished\n",
            "Epoch: 169/300...training finished\n",
            "Epoch: 170/300...training finished\n",
            "Epoch: 171/300...training finished\n",
            "Epoch: 172/300...training finished\n",
            "Epoch: 173/300...training finished\n",
            "Epoch: 174/300...training finished\n",
            "Epoch: 175/300...training finished\n",
            "Epoch: 176/300...training finished\n",
            "Epoch: 177/300...training finished\n",
            "Epoch: 178/300...training finished\n",
            "Epoch: 179/300...training finished\n",
            "Epoch: 180/300...training finished\n",
            "Epoch: 181/300...training finished\n",
            "Epoch: 182/300...training finished\n",
            "Epoch: 183/300...training finished\n",
            "Epoch: 184/300...training finished\n",
            "Epoch: 185/300...training finished\n",
            "Epoch: 186/300...training finished\n",
            "Epoch: 187/300...training finished\n",
            "Epoch: 188/300...training finished\n",
            "Epoch: 189/300...training finished\n",
            "Epoch: 190/300...training finished\n",
            "Epoch: 191/300...training finished\n",
            "Epoch: 192/300...training finished\n",
            "Epoch: 193/300...training finished\n",
            "Epoch: 194/300...training finished\n",
            "Epoch: 195/300...training finished\n",
            "Epoch: 196/300...training finished\n",
            "Epoch: 197/300...training finished\n",
            "Epoch: 198/300...training finished\n",
            "Epoch: 199/300...training finished\n",
            "Epoch: 200/300...training finished\n",
            "Epoch: 201/300...training finished\n",
            "Epoch: 202/300...training finished\n",
            "Epoch: 203/300...training finished\n",
            "Epoch: 204/300...training finished\n",
            "Epoch: 205/300...training finished\n",
            "Epoch: 206/300...training finished\n",
            "Epoch: 207/300...training finished\n",
            "Epoch: 208/300...training finished\n",
            "Epoch: 209/300...training finished\n",
            "Epoch: 210/300...training finished\n",
            "Epoch: 211/300...training finished\n",
            "Epoch: 212/300...training finished\n",
            "Epoch: 213/300...training finished\n",
            "Epoch: 214/300...training finished\n",
            "Epoch: 215/300...training finished\n",
            "Epoch: 216/300...training finished\n",
            "Epoch: 217/300...training finished\n",
            "Epoch: 218/300...training finished\n",
            "Epoch: 219/300...training finished\n",
            "Epoch: 220/300...training finished\n",
            "Epoch: 221/300...training finished\n",
            "Epoch: 222/300...training finished\n",
            "Epoch: 223/300...training finished\n",
            "Epoch: 224/300...training finished\n",
            "Epoch: 225/300...training finished\n",
            "Epoch: 226/300...training finished\n",
            "Epoch: 227/300...training finished\n",
            "Epoch: 228/300...training finished\n",
            "Epoch: 229/300...training finished\n",
            "Epoch: 230/300...training finished\n",
            "Epoch: 231/300...training finished\n",
            "Epoch: 232/300...training finished\n",
            "Epoch: 233/300...training finished\n",
            "Epoch: 234/300...training finished\n",
            "Epoch: 235/300...training finished\n",
            "Epoch: 236/300...training finished\n",
            "Epoch: 237/300...training finished\n",
            "Epoch: 238/300...training finished\n",
            "Epoch: 239/300...training finished\n",
            "Epoch: 240/300...training finished\n",
            "Epoch: 241/300...training finished\n",
            "Epoch: 242/300...training finished\n",
            "Epoch: 243/300...training finished\n",
            "Epoch: 244/300...training finished\n",
            "Epoch: 245/300...training finished\n",
            "Epoch: 246/300...training finished\n",
            "Epoch: 247/300...training finished\n",
            "Epoch: 248/300...training finished\n",
            "Epoch: 249/300...training finished\n",
            "Epoch: 250/300...training finished\n",
            "Epoch: 251/300...training finished\n",
            "Epoch: 252/300...training finished\n",
            "Epoch: 253/300...training finished\n",
            "Epoch: 254/300...training finished\n",
            "Epoch: 255/300...training finished\n",
            "Epoch: 256/300...training finished\n",
            "Epoch: 257/300...training finished\n",
            "Epoch: 258/300...training finished\n",
            "Epoch: 259/300...training finished\n",
            "Epoch: 260/300...training finished\n",
            "Epoch: 261/300...training finished\n",
            "Epoch: 262/300...training finished\n",
            "Epoch: 263/300...training finished\n",
            "Epoch: 264/300...training finished\n",
            "Epoch: 265/300...training finished\n",
            "Epoch: 266/300...training finished\n",
            "Epoch: 267/300...training finished\n",
            "Epoch: 268/300...training finished\n",
            "Epoch: 269/300...training finished\n",
            "Epoch: 270/300...training finished\n",
            "Epoch: 271/300...training finished\n",
            "Epoch: 272/300...training finished\n",
            "Epoch: 273/300...training finished\n",
            "Epoch: 274/300...training finished\n",
            "Epoch: 275/300...training finished\n",
            "Epoch: 276/300...training finished\n",
            "Epoch: 277/300...training finished\n",
            "Epoch: 278/300...training finished\n",
            "Epoch: 279/300...training finished\n",
            "Epoch: 280/300...training finished\n",
            "Epoch: 281/300...training finished\n",
            "Epoch: 282/300...training finished\n",
            "Epoch: 283/300...training finished\n",
            "Epoch: 284/300...training finished\n",
            "Epoch: 285/300...training finished\n",
            "Epoch: 286/300...training finished\n",
            "Epoch: 287/300...training finished\n",
            "Epoch: 288/300...training finished\n",
            "Epoch: 289/300...training finished\n",
            "Epoch: 290/300...training finished\n",
            "Epoch: 291/300...training finished\n",
            "Epoch: 292/300...training finished\n",
            "Epoch: 293/300...training finished\n",
            "Epoch: 294/300...training finished\n",
            "Epoch: 295/300...training finished\n",
            "Epoch: 296/300...training finished\n",
            "Epoch: 297/300...training finished\n",
            "Epoch: 298/300...training finished\n",
            "Epoch: 299/300...training finished\n",
            "Epoch: 300/300...training finished\n"
          ]
        }
      ],
      "source": [
        "## YOUR CODE HERE ##\n",
        "epochs = 300\n",
        "train_loss_epoch = []\n",
        "for epoch in range(epochs):\n",
        "    running_loss = 0\n",
        "    for train_images, train_labels in trainloader:\n",
        "        train_images, train_labels = train_images.to(device), train_labels.to(device)\n",
        "\n",
        "        optimizer.zero_grad()\n",
        "\n",
        "        logps = model.forward(train_images)\n",
        "        train_loss = criterion(logps, train_labels)\n",
        "        train_loss.backward()\n",
        "        optimizer.step()\n",
        "\n",
        "        running_loss += train_loss.item()\n",
        "\n",
        "    train_loss_epoch.append(running_loss/len(trainloader))\n",
        "    print(\"Epoch: {}/{}...training finished\".format(epoch+1, epochs))"
      ]
    },
    {
      "cell_type": "code",
      "execution_count": 9,
      "metadata": {
        "scrolled": true,
        "id": "xkMoZ35s7R_0"
      },
      "outputs": [],
      "source": [
        "#Plot the training loss (and validation loss/accuracy, if recorded)."
      ]
    },
    {
      "cell_type": "code",
      "execution_count": 10,
      "metadata": {
        "scrolled": false,
        "colab": {
          "base_uri": "https://localhost:8080/",
          "height": 447
        },
        "id": "La3sq0g_7R_0",
        "outputId": "03ccd14b-c2d7-49a1-9e1a-54e039bc191c"
      },
      "outputs": [
        {
          "output_type": "execute_result",
          "data": {
            "text/plain": [
              "<matplotlib.legend.Legend at 0x7d3034821540>"
            ]
          },
          "metadata": {},
          "execution_count": 10
        },
        {
          "output_type": "display_data",
          "data": {
            "text/plain": [
              "<Figure size 640x480 with 1 Axes>"
            ],
            "image/png": "[encoded data removed]"
          },
          "metadata": {}
        }
      ],
      "source": [
        "## YOUR CODE HERE ##\n",
        "plt.plot(train_loss_epoch, label='Training loss')\n",
        "plt.legend(frameon=False)"
      ]
    },
    {
      "cell_type": "markdown",
      "metadata": {
        "id": "Byo0QgEI7R_1"
      },
      "source": [
        "## Testing your model\n",
        "Using the previously created `DataLoader` for the test set, compute the percentage of correct predictions using the highest probability prediction.\n",
        "\n",
        "If your accuracy is over 70%, great work!\n",
        "This is a hard task to exceed 70% on.\n",
        "\n",
        "If your accuracy is under 45%, you'll need to make improvements.\n",
        "Go back and check your model architecture, loss function, and optimizer to make sure they're appropriate for an image classification task."
      ]
    },
    {
      "cell_type": "code",
      "execution_count": 12,
      "metadata": {
        "colab": {
          "base_uri": "https://localhost:8080/"
        },
        "id": "suHxct_o7R_1",
        "outputId": "dbb5f31c-932d-4b95-b496-dac839a15b02"
      },
      "outputs": [
        {
          "output_type": "stream",
          "name": "stdout",
          "text": [
            "Test accuracy: 0.754\n"
          ]
        },
        {
          "output_type": "execute_result",
          "data": {
            "text/plain": [
              "Classifier(\n",
              "  (conv1): Conv2d(3, 16, kernel_size=(3, 3), stride=(1, 1), padding=(1, 1))\n",
              "  (pool): MaxPool2d(kernel_size=2, stride=2, padding=0, dilation=1, ceil_mode=False)\n",
              "  (conv2): Conv2d(16, 32, kernel_size=(3, 3), stride=(1, 1), padding=(1, 1))\n",
              "  (fc1): Linear(in_features=2048, out_features=64, bias=True)\n",
              "  (fc2): Linear(in_features=64, out_features=32, bias=True)\n",
              "  (fc3): Linear(in_features=32, out_features=10, bias=True)\n",
              "  (dropout): Dropout(p=0.1, inplace=False)\n",
              ")"
            ]
          },
          "metadata": {},
          "execution_count": 12
        }
      ],
      "source": [
        "## YOUR CODE HERE ##\n",
        "accuracy = 0\n",
        "model.eval()\n",
        "with torch.no_grad():\n",
        "    for test_images, test_labels in testloader:\n",
        "        test_images, test_labels = test_images.to(device), test_labels.to(device)\n",
        "\n",
        "        logps = model.forward(test_images)\n",
        "        ps = torch.exp(logps)\n",
        "        top_p, top_class = ps.topk(1, dim=1)\n",
        "        equals = top_class == test_labels.view(*top_class.shape)\n",
        "        accuracy += torch.mean(equals.type(torch.FloatTensor)).item()\n",
        "\n",
        "accuracy = accuracy / len(testloader)\n",
        "print(f\"Test accuracy: {accuracy:.3f}\")\n",
        "model.train()"
      ]
    },
    {
      "cell_type": "markdown",
      "metadata": {
        "id": "uiEkzdOp7R_1"
      },
      "source": [
        "## Saving your model\n",
        "Using `torch.save`, save your model for future loading."
      ]
    },
    {
      "cell_type": "code",
      "execution_count": 13,
      "metadata": {
        "id": "vcxgpOzB7R_1"
      },
      "outputs": [],
      "source": [
        "## YOUR CODE HERE ##\n",
        "compareToDetectocorp = {'input_size': 3072,\n",
        "                        'output_size': 10,\n",
        "                        'state_dict': model.state_dict()}\n",
        "\n",
        "torch.save(compareToDetectocorp, 'compareToDetectocorp_CNN.pth')"
      ]
    },
    {
      "cell_type": "markdown",
      "metadata": {
        "id": "dcI7R_bZ7R_1"
      },
      "source": [
        "## Make a Recommendation\n",
        "\n",
        "Based on your evaluation, what is your recommendation on whether to build or buy? Explain your reasoning below.\n",
        "\n",
        "Some things to consider as you formulate your recommendation:\n",
        "* How does your model compare to Detectocorp's model?\n",
        "* How does it compare to the far more advanced solutions in the literature?\n",
        "* What did you do to get the accuracy you achieved?\n",
        "* Is it necessary to improve this accuracy? If so, what sort of work would be involved in improving it?"
      ]
    },
    {
      "cell_type": "markdown",
      "metadata": {
        "id": "gDWyALPP7R_1"
      },
      "source": [
        "\n",
        "\n",
        "* The model achieves a higher accuracy (75.4%) that Detectocorp's model (70%).\n",
        "* Advanced solutions achieve nearly 100% accuracy on CIFAR-10 dataset. Since this model uses a very basic CNN structure, its accuracy is lower.\n",
        "* I used a CNN-based model because CNNs are essential to acheive a high accuracy on image-based dataset. Through several experiments, I found that it is not possible to achieve an acurracy higher than 50-55% using only feedforward networks.\n",
        "* The accuracy can be improved by including addioti\n",
        "\n"
      ]
    },
    {
      "cell_type": "markdown",
      "metadata": {
        "id": "fWI0xQmU7R_1"
      },
      "source": [
        "## Submit Your Project\n",
        "\n",
        "When you are finished editing the notebook and are ready to turn it in, simply click the **SUBMIT PROJECT** button in the lower right.\n",
        "\n",
        "Once you submit your project, we'll review your work and give you feedback if there's anything that you need to work on. If you'd like to see the exact points that your reviewer will check for when looking at your work, you can have a look over the project [rubric](https://review.udacity.com/#!/rubrics/3077/view)."
      ]
    }
  ],
  "metadata": {
    "kernelspec": {
      "display_name": "Python 3",
      "name": "python3"
    },
    "colab": {
      "provenance": [],
      "gpuType": "T4"
    },
    "accelerator": "GPU"
  },
  "nbformat": 4,
  "nbformat_minor": 0
}